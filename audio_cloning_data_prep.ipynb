{
  "nbformat": 4,
  "nbformat_minor": 0,
  "metadata": {
    "colab": {
      "provenance": [],
      "collapsed_sections": [],
      "include_colab_link": true
    },
    "kernelspec": {
      "name": "python3",
      "display_name": "Python 3"
    },
    "language_info": {
      "name": "python"
    }
  },
  "cells": [
    {
      "cell_type": "markdown",
      "metadata": {
        "id": "view-in-github",
        "colab_type": "text"
      },
      "source": [
        "<a href=\"https://colab.research.google.com/github/ajay-sainy/notebooks/blob/main/audio_cloning_data_prep.ipynb\" target=\"_parent\"><img src=\"https://colab.research.google.com/assets/colab-badge.svg\" alt=\"Open In Colab\"/></a>"
      ]
    },
    {
      "cell_type": "code",
      "execution_count": 102,
      "metadata": {
        "id": "okzZKDTC8z0e"
      },
      "outputs": [],
      "source": [
        "!pip install pydub\n",
        "!pip install --upgrade yt-dlp\n",
        "!pip install tqdm\n",
        "\n",
        "from tqdm import tqdm"
      ]
    },
    {
      "cell_type": "code",
      "source": [
        "from google.colab import drive\n",
        "drive_path = '/content/drive'\n",
        "drive.mount(drive_path)\n",
        "\n",
        "drive_output_folder = drive_path + \"/My Drive/audio_clone\" "
      ],
      "metadata": {
        "id": "_WxTDW2TcdmJ",
        "colab": {
          "base_uri": "https://localhost:8080/"
        },
        "outputId": "77002f86-a9ff-4592-d67b-5716fa282d21"
      },
      "execution_count": 2,
      "outputs": [
        {
          "output_type": "stream",
          "name": "stdout",
          "text": [
            "Mounted at /content/drive\n"
          ]
        }
      ]
    },
    {
      "cell_type": "code",
      "source": [
        "#@title Youtube Downloader - Simple Mode { vertical-output: true }\n",
        "subType = \"srv1\"\n",
        "subName = \"sub.en.\" + subType\n",
        "audioPath = \"audio.mp3\"\n",
        "url = \"https://www.youtube.com/watch?v=Nb5cBkbQpGY\" #@param {type:\"string\"}\n",
        "!yt-dlp --write-auto-subs --sub-format {subType} --skip-download {url} -o \"subtitle:sub\"\n",
        "#!yt-dlp --list-subs $url\n",
        "!yt-dlp -f 'ba' -x --audio-format mp3 {url} -o 'audio.%(ext)s'"
      ],
      "metadata": {
        "id": "xR-IJt4wj0jJ",
        "colab": {
          "base_uri": "https://localhost:8080/"
        },
        "outputId": "68e4ac0e-0cdb-4c89-c6ce-b2ebda75f00d"
      },
      "execution_count": 3,
      "outputs": [
        {
          "output_type": "stream",
          "name": "stdout",
          "text": [
            "[youtube] Nb5cBkbQpGY: Downloading webpage\n",
            "[youtube] Nb5cBkbQpGY: Downloading android player API JSON\n",
            "[info] Nb5cBkbQpGY: Downloading subtitles: en\n",
            "[info] Nb5cBkbQpGY: Downloading 1 format(s): 248+251\n",
            "[info] Writing video subtitles to: 2017 Maps of Meaning 08： Neuropsychology of Symbolic Representation [Nb5cBkbQpGY].en.srv1\n",
            "[download] Destination: 2017 Maps of Meaning 08： Neuropsychology of Symbolic Representation [Nb5cBkbQpGY].en.srv1\n",
            "\u001b[K[download] 100% of 286.71KiB in \u001b[1;37m00:00\u001b[0m at \u001b[0;32m702.06KiB/s\u001b[0m\n",
            "[MoveFiles] Moving file \"2017 Maps of Meaning 08： Neuropsychology of Symbolic Representation [Nb5cBkbQpGY].en.srv1\" to \"sub.en.srv1\"\n",
            "[youtube] Nb5cBkbQpGY: Downloading webpage\n",
            "[youtube] Nb5cBkbQpGY: Downloading android player API JSON\n",
            "[info] Nb5cBkbQpGY: Downloading 1 format(s): 251\n",
            "[download] Destination: audio.webm\n",
            "\u001b[K[download] 100% of 108.12MiB in \u001b[1;37m00:05\u001b[0m at \u001b[0;32m20.24MiB/s\u001b[0m\n",
            "[ExtractAudio] Destination: audio.mp3\n",
            "Deleting original file audio.webm (pass -k to keep)\n"
          ]
        }
      ]
    },
    {
      "cell_type": "code",
      "source": [
        "import xml.etree.ElementTree as ET\n",
        "import html\n",
        "import os\n",
        "\n",
        "tree = ET.parse(subName)\n",
        "root = tree.getroot()\n",
        "\n",
        "# &amp;amp; -> & -> and\n",
        "# &amp;#39; -> you&amp;#39;ll -> you'll -> you will\n",
        "result = []\n",
        "for line in root.iter('text'):\n",
        "    # TODO: skip if contains music etc []\n",
        "    text = html.unescape(line.text).strip() # TODO: Take care of vocab/Dictonary. Maybe remove/replace \"&\" and \"'\"\n",
        "    start = float(line.attrib[\"start\"])\n",
        "    #print(start, \" -> \", text)\n",
        "    result.append((start, text))\n",
        "\n",
        "finalResult = [] # start, end, length, text\n",
        "for i in range(len(result) - 1):\n",
        "  # print(item)\n",
        "\n",
        "  item = result[i]\n",
        "  nextItem = result[i + 1]\n",
        "\n",
        "  start = item[0]\n",
        "  text = item[1]\n",
        "  length = round(nextItem[0] - start, 3)\n",
        "  end = nextItem[0]\n",
        "  if \"[\" in text:\n",
        "    print(\"Skipping\", text, item)\n",
        "  else:\n",
        "    finalResult.append((start, end, length, text))\n",
        "print(finalResult[0:5])"
      ],
      "metadata": {
        "id": "XhlYxki5T45b",
        "colab": {
          "base_uri": "https://localhost:8080/"
        },
        "outputId": "f2b96194-7192-4aa6-d4d0-9d2e7042313f"
      },
      "execution_count": 4,
      "outputs": [
        {
          "output_type": "stream",
          "name": "stdout",
          "text": [
            "Skipping [Music] (0.05, '[Music]')\n",
            "[(11.74, 17.0, 5.26, 'so one of the propositions that I set'), (17.0, 21.08, 4.08, 'forth for you last week was that the'), (21.08, 24.349, 3.269, 'most real things are the things that are'), (24.349, 27.369, 3.02, 'most permanent across time and and that'), (27.369, 30.29, 2.921, 'manifests themselves in the largest')]\n"
          ]
        }
      ]
    },
    {
      "cell_type": "code",
      "source": [
        "# Frequency analysis\n",
        "def freq_analysis(arr):\n",
        "  my_dict = {}\n",
        "  for item in arr:\n",
        "    val = int(item[2])\n",
        "    if val in my_dict:\n",
        "      my_dict[val] += 1\n",
        "    else:\n",
        "      my_dict[val] = 1\n",
        "  for key in sorted(my_dict):\n",
        "    print(key, \":\", my_dict[key])"
      ],
      "metadata": {
        "id": "HdHnPtaQf5I7"
      },
      "execution_count": 5,
      "outputs": []
    },
    {
      "cell_type": "code",
      "source": [
        "import random\n",
        "\n",
        "mergedResult = []\n",
        "choiceArr = [0, 1, 2, 3]\n",
        "\n",
        "# finalResult\n",
        "inputArr = [\n",
        "    (0, 1, 1, \"1\"),\n",
        "    (1, 5, 4, \"2\"),\n",
        "    (5, 10, 5, \"3\"),\n",
        "    (10, 11, 1, \"4\"),\n",
        "    (11, 12, 1, \"5\")\n",
        "]\n",
        "inputArr = finalResult\n",
        "\n",
        "i = 0 \n",
        "while i < len(inputArr):\n",
        "  mergeLength = random.choice(choiceArr)\n",
        "  # start, end, length, text\n",
        "  temp = inputArr[i]\n",
        "  mergeCount = 1\n",
        "  for j in range(mergeLength):\n",
        "    nextIndex = i + j + 1\n",
        "    if nextIndex < len(inputArr):\n",
        "      nextItem = inputArr[nextIndex]\n",
        "      newLength = temp[2] + nextItem[2]\n",
        "      if newLength < 10:\n",
        "        text = temp[3]  + \" \" + nextItem[3]\n",
        "        temp = (temp[0], nextItem[1], newLength, text)\n",
        "        mergeCount += 1\n",
        "      else:\n",
        "        break\n",
        "  \n",
        "  i = i + mergeCount\n",
        "  mergedResult.append(temp)"
      ],
      "metadata": {
        "id": "2Xxqw5aVhtmZ"
      },
      "execution_count": 98,
      "outputs": []
    },
    {
      "cell_type": "code",
      "source": [
        "from pydub import AudioSegment\n",
        "audio = AudioSegment.from_mp3(audioPath)"
      ],
      "metadata": {
        "id": "DWrOCjsVE9eu"
      },
      "execution_count": 95,
      "outputs": []
    },
    {
      "cell_type": "code",
      "source": [
        "from pydub.silence import split_on_silence\n",
        "# Remove silences in the clips\n",
        "def removeSilences(inputAudio):\n",
        "  audio_chunks = split_on_silence(inputAudio\n",
        "                              ,min_silence_len = 100\n",
        "                              ,silence_thresh = -45\n",
        "                              ,keep_silence = 50\n",
        "                          )\n",
        "\n",
        "  # Putting the file back together\n",
        "  combined = AudioSegment.empty()\n",
        "  for chunk in audio_chunks:\n",
        "      combined += chunk\n",
        "  # print(\"Removed silence (sec):\", inputAudio.duration_seconds - combined.duration_seconds)\n",
        "  return combined\n",
        "\n",
        "def processForTraining(chunk):\n",
        "  chunk = removeSilences(chunk)\n",
        "  chunk = chunk.split_to_mono()[0]\n",
        "  chunk = chunk.set_frame_rate(22050)\n",
        "  return chunk\n",
        "\n",
        "def ensure_dir(path):\n",
        "  os.makedirs(path, exist_ok=True)\n",
        "\n"
      ],
      "metadata": {
        "id": "vZXrXXf-F7XN"
      },
      "execution_count": 128,
      "outputs": []
    },
    {
      "cell_type": "code",
      "source": [
        "final_output_folder = drive_output_folder\n",
        "# create a directory to store the audio chunks\n",
        "ensure_dir(final_output_folder)\n",
        "exportFormat = \"wav\"\n",
        "chunksInfo = mergedResult\n",
        "for i, chunkInfo in enumerate(tqdm(chunksInfo[:10])):\n",
        "  # print(chunkInfo)\n",
        "  start = chunkInfo[0] * 1000 #Works in milliseconds\n",
        "  end = chunkInfo[1] * 1000\n",
        "  chunk = audio[start:end]\n",
        "  chunkName = str(i) + '.' + exportFormat\n",
        "  chunkPath = final_output_folder + \"/\" + chunkName\n",
        "  chunk = processForTraining(chunk)\n",
        "  chunk.export(chunkPath, format=exportFormat)\n",
        "# Trim silence - https://stackoverflow.com/questions/29547218/remove-silence-at-the-beginning-and-at-the-end-of-wave-files-with-pydub"
      ],
      "metadata": {
        "id": "xlSxnNYHw53C",
        "colab": {
          "base_uri": "https://localhost:8080/"
        },
        "outputId": "52b518f2-aae6-4776-f077-5f7c60cf54c8"
      },
      "execution_count": 129,
      "outputs": [
        {
          "output_type": "stream",
          "name": "stderr",
          "text": [
            "100%|██████████| 10/10 [00:02<00:00,  3.41it/s]\n"
          ]
        }
      ]
    },
    {
      "cell_type": "code",
      "source": [
        "# chop into clips with transcript\n",
        "# trim silences\n",
        "# remove noises, background sound, music etc - spleeter ?\n",
        "# trim silences ??\n",
        "# Done!!!\n",
        "# https://manpages.ubuntu.com/manpages/kinetic/en/man1/mp3splt.1.html\n",
        "# https://askubuntu.com/a/27637\n"
      ],
      "metadata": {
        "id": "zG-Tf6mvALwv"
      },
      "execution_count": null,
      "outputs": []
    },
    {
      "cell_type": "code",
      "source": [
        "# !rm final/ -r\n",
        "# !rm audio_chunks/ -r\n",
        "!rm /content/drive/MyDrive/audio_clone -r"
      ],
      "metadata": {
        "id": "65kX6ZM3WOy4"
      },
      "execution_count": 119,
      "outputs": []
    }
  ]
}
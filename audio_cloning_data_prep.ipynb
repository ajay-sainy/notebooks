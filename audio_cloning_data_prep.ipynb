{
  "nbformat": 4,
  "nbformat_minor": 0,
  "metadata": {
    "colab": {
      "provenance": [],
      "collapsed_sections": [],
      "include_colab_link": true
    },
    "kernelspec": {
      "name": "python3",
      "display_name": "Python 3"
    },
    "language_info": {
      "name": "python"
    }
  },
  "cells": [
    {
      "cell_type": "markdown",
      "metadata": {
        "id": "view-in-github",
        "colab_type": "text"
      },
      "source": [
        "<a href=\"https://colab.research.google.com/github/ajay-sainy/notebooks/blob/main/audio_cloning_data_prep.ipynb\" target=\"_parent\"><img src=\"https://colab.research.google.com/assets/colab-badge.svg\" alt=\"Open In Colab\"/></a>"
      ]
    },
    {
      "cell_type": "code",
      "execution_count": null,
      "metadata": {
        "id": "okzZKDTC8z0e"
      },
      "outputs": [],
      "source": [
        "!pip install pydub\n",
        "!pip install --upgrade yt-dlp\n",
        "!pip install tqdm\n",
        "\n",
        "from tqdm import tqdm"
      ]
    },
    {
      "cell_type": "code",
      "source": [
        "speaker = \"Jordan_2\"\n",
        "\n",
        "#@title Youtube Downloader - Simple Mode { vertical-output: true }\n",
        "subType = \"srv1\"\n",
        "subName = \"sub.en.\" + subType\n",
        "audioPath = \"audio.mp3\"\n",
        "url = \"https://www.youtube.com/watch?v=Nb5cBkbQpGY\" #@param {type:\"string\"}\n",
        "!yt-dlp --write-auto-subs --sub-format {subType} --skip-download {url} -o \"subtitle:sub\"\n",
        "#!yt-dlp --list-subs $url\n",
        "!yt-dlp -f 'ba' -x --audio-format mp3 {url} -o 'audio.%(ext)s'"
      ],
      "metadata": {
        "id": "xR-IJt4wj0jJ"
      },
      "execution_count": null,
      "outputs": []
    },
    {
      "cell_type": "code",
      "source": [
        "from google.colab import drive\n",
        "drive_path = '/content/drive'\n",
        "drive.mount(drive_path)\n",
        "\n",
        "drive_output_folder = drive_path + \"/My Drive/audio_clone\"\n",
        "speaker_output_folder = f\"{drive_output_folder}/{speaker}\"\n",
        "audio_output_folder = f\"{speaker_output_folder}/wavs\""
      ],
      "metadata": {
        "id": "_WxTDW2TcdmJ"
      },
      "execution_count": null,
      "outputs": []
    },
    {
      "cell_type": "code",
      "source": [
        "import xml.etree.ElementTree as ET\n",
        "import html\n",
        "import os\n",
        "\n",
        "tree = ET.parse(subName)\n",
        "root = tree.getroot()\n",
        "\n",
        "# &amp;amp; -> & -> and\n",
        "# &amp;#39; -> you&amp;#39;ll -> you'll -> you will\n",
        "result = []\n",
        "for line in root.iter('text'):\n",
        "    # TODO: skip if contains music etc []\n",
        "    text = html.unescape(line.text).strip() # TODO: Take care of vocab/Dictonary. Maybe remove/replace \"&\" and \"'\"\n",
        "    start = float(line.attrib[\"start\"])\n",
        "    #print(start, \" -> \", text)\n",
        "    result.append((start, text))\n",
        "\n",
        "finalResult = [] # start, end, length, text\n",
        "for i in range(len(result) - 1):\n",
        "  # print(item)\n",
        "\n",
        "  item = result[i]\n",
        "  nextItem = result[i + 1]\n",
        "\n",
        "  start = item[0]\n",
        "  text = item[1]\n",
        "  length = round(nextItem[0] - start, 3)\n",
        "  end = nextItem[0]\n",
        "  if \"[\" in text:\n",
        "    print(\"Skipping\", text, item)\n",
        "  else:\n",
        "    finalResult.append((start, end, length, text))\n",
        "print(finalResult[0:5])"
      ],
      "metadata": {
        "id": "XhlYxki5T45b"
      },
      "execution_count": null,
      "outputs": []
    },
    {
      "cell_type": "code",
      "source": [
        "# Frequency analysis\n",
        "def freq_analysis(arr):\n",
        "  my_dict = {}\n",
        "  for item in arr:\n",
        "    val = int(item[2])\n",
        "    if val in my_dict:\n",
        "      my_dict[val] += 1\n",
        "    else:\n",
        "      my_dict[val] = 1\n",
        "  for key in sorted(my_dict):\n",
        "    print(key, \":\", my_dict[key])"
      ],
      "metadata": {
        "id": "HdHnPtaQf5I7"
      },
      "execution_count": null,
      "outputs": []
    },
    {
      "cell_type": "code",
      "source": [
        "import random\n",
        "\n",
        "mergedResult = []\n",
        "choiceArr = [0, 1, 2, 3]\n",
        "\n",
        "# finalResult\n",
        "# inputArr = [\n",
        "#     (0, 1, 1, \"1\"),\n",
        "#     (1, 5, 4, \"2\"),\n",
        "#     (5, 10, 5, \"3\"),\n",
        "#     (10, 11, 1, \"4\"),\n",
        "#     (11, 12, 1, \"5\")\n",
        "# ]\n",
        "inputArr = finalResult\n",
        "\n",
        "i = 0 \n",
        "while i < len(inputArr):\n",
        "  mergeLength = random.choice(choiceArr)\n",
        "  # start, end, length, text\n",
        "  temp = inputArr[i]\n",
        "  mergeCount = 1\n",
        "  for j in range(mergeLength):\n",
        "    nextIndex = i + j + 1\n",
        "    if nextIndex < len(inputArr):\n",
        "      nextItem = inputArr[nextIndex]\n",
        "      newLength = temp[2] + nextItem[2]\n",
        "      if newLength < 10:\n",
        "        text = temp[3]  + \" \" + nextItem[3]\n",
        "        temp = (temp[0], nextItem[1], newLength, text)\n",
        "        mergeCount += 1\n",
        "      else:\n",
        "        break\n",
        "  \n",
        "  i = i + mergeCount\n",
        "  mergedResult.append(temp)"
      ],
      "metadata": {
        "id": "2Xxqw5aVhtmZ"
      },
      "execution_count": null,
      "outputs": []
    },
    {
      "cell_type": "code",
      "source": [
        "from pydub import AudioSegment\n",
        "audio = AudioSegment.from_mp3(audioPath)"
      ],
      "metadata": {
        "id": "DWrOCjsVE9eu"
      },
      "execution_count": null,
      "outputs": []
    },
    {
      "cell_type": "code",
      "source": [
        "from pydub.silence import split_on_silence\n",
        "# Remove silences in the clips\n",
        "def removeSilences(inputAudio):\n",
        "  audio_chunks = split_on_silence(inputAudio\n",
        "                              ,min_silence_len = 100\n",
        "                              ,silence_thresh = -45\n",
        "                              ,keep_silence = 50\n",
        "                          )\n",
        "\n",
        "  # Putting the file back together\n",
        "  combined = AudioSegment.empty()\n",
        "  for chunk in audio_chunks:\n",
        "      combined += chunk\n",
        "  # print(\"Removed silence (sec):\", inputAudio.duration_seconds - combined.duration_seconds)\n",
        "  return combined\n",
        "\n",
        "def processForTraining(chunk):\n",
        "  chunk = removeSilences(chunk)\n",
        "  chunk = chunk.split_to_mono()[0]\n",
        "  chunk = chunk.set_frame_rate(22050)\n",
        "  return chunk\n",
        "\n",
        "def ensure_dir(path):\n",
        "  os.makedirs(path, exist_ok=True)\n",
        "\n"
      ],
      "metadata": {
        "id": "vZXrXXf-F7XN"
      },
      "execution_count": null,
      "outputs": []
    },
    {
      "cell_type": "code",
      "source": [
        "TOTAL_AUDIO_TO_EXTRACT = 300\n",
        "final_output_folder = audio_output_folder\n",
        "# create a directory to store the audio chunks\n",
        "ensure_dir(final_output_folder)\n",
        "exportFormat = \"wav\"\n",
        "chunksInfo = mergedResult\n",
        "for i, chunkInfo in enumerate(tqdm(chunksInfo[:TOTAL_AUDIO_TO_EXTRACT])):\n",
        "  # print(chunkInfo)\n",
        "  start = chunkInfo[0] * 1000 #Works in milliseconds\n",
        "  end = chunkInfo[1] * 1000\n",
        "  chunk = audio[start:end]\n",
        "  chunkName = str(i) + '.' + exportFormat\n",
        "  chunkPath = final_output_folder + \"/\" + chunkName\n",
        "  chunk = processForTraining(chunk)\n",
        "  chunk.export(chunkPath, format=exportFormat)\n",
        "# Trim silence - https://stackoverflow.com/questions/29547218/remove-silence-at-the-beginning-and-at-the-end-of-wave-files-with-pydub"
      ],
      "metadata": {
        "id": "xlSxnNYHw53C"
      },
      "execution_count": null,
      "outputs": []
    },
    {
      "cell_type": "code",
      "source": [
        "trainFilepath = f\"{speaker_output_folder}/{speaker}_train.txt\"\n",
        "valFilePath = f\"{speaker_output_folder}/{speaker}_val.txt\"\n",
        "\n",
        "trainContent = []\n",
        "for i, item in enumerate(mergedResult[:TOTAL_AUDIO_TO_EXTRACT]):\n",
        "  trainContent.append(f\"{i}.wav|{item[3]}\")\n",
        "\n",
        "valContent = trainContent[:int(len(trainContent)/10)]\n",
        "\n",
        "with open(trainFilepath, 'w') as trainFile:\n",
        "  trainFile.writelines(\"\\n\".join(trainContent))\n",
        "\n",
        "with open(valFilePath, 'w') as valFile:\n",
        "  valFile.writelines(\"\\n\".join(valContent))"
      ],
      "metadata": {
        "id": "zG-Tf6mvALwv"
      },
      "execution_count": null,
      "outputs": []
    },
    {
      "cell_type": "code",
      "source": [
        "!cat $trainFile"
      ],
      "metadata": {
        "id": "e_9YjHf8gQmJ"
      },
      "execution_count": null,
      "outputs": []
    },
    {
      "cell_type": "code",
      "source": [
        "# !rm final/ -r\n",
        "# !rm audio_chunks/ -r\n",
        "# !rm /content/drive/MyDrive/audio_clone -r"
      ],
      "metadata": {
        "id": "65kX6ZM3WOy4"
      },
      "execution_count": null,
      "outputs": []
    }
  ]
}
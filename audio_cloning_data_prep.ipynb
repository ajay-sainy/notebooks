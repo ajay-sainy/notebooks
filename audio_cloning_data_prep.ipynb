{
  "nbformat": 4,
  "nbformat_minor": 0,
  "metadata": {
    "colab": {
      "provenance": [],
      "collapsed_sections": [],
      "authorship_tag": "ABX9TyOfVIdP7SGQpzxpXKfpyeBf",
      "include_colab_link": true
    },
    "kernelspec": {
      "name": "python3",
      "display_name": "Python 3"
    },
    "language_info": {
      "name": "python"
    }
  },
  "cells": [
    {
      "cell_type": "markdown",
      "metadata": {
        "id": "view-in-github",
        "colab_type": "text"
      },
      "source": [
        "<a href=\"https://colab.research.google.com/github/ajay-sainy/notebooks/blob/main/audio_cloning_data_prep.ipynb\" target=\"_parent\"><img src=\"https://colab.research.google.com/assets/colab-badge.svg\" alt=\"Open In Colab\"/></a>"
      ]
    },
    {
      "cell_type": "code",
      "execution_count": null,
      "metadata": {
        "id": "okzZKDTC8z0e"
      },
      "outputs": [],
      "source": [
        "!pip install pydub\n",
        "!pip install --upgrade yt-dlp"
      ]
    },
    {
      "cell_type": "code",
      "source": [
        "#@title Youtube Downloader - Simple Mode { vertical-output: true }\n",
        "subType = \"srv1\"\n",
        "subName = \"sub.en.\" + subType\n",
        "audioPath = \"audio.mp3\"\n",
        "url = \"https://www.youtube.com/watch?v=Nb5cBkbQpGY\" #@param {type:\"string\"}\n",
        "!yt-dlp --write-auto-subs --sub-format {subType} --skip-download {url} -o \"subtitle:sub\"\n",
        "#!yt-dlp --list-subs $url\n",
        "!yt-dlp -f 'ba' -x --audio-format mp3 {url} -o 'audio.%(ext)s'"
      ],
      "metadata": {
        "id": "xR-IJt4wj0jJ"
      },
      "execution_count": null,
      "outputs": []
    },
    {
      "cell_type": "code",
      "source": [
        "import xml.etree.ElementTree as ET\n",
        "import html\n",
        "import os\n",
        "\n",
        "tree = ET.parse(subName)\n",
        "root = tree.getroot()\n",
        "\n",
        "# &amp;amp; -> & -> and\n",
        "# &amp;#39; -> you&amp;#39;ll -> you'll -> you will\n",
        "result = []\n",
        "for line in root.iter('text'):\n",
        "    # TODO: skip if contains music etc []\n",
        "    text = html.unescape(line.text).strip() # TODO: Take care of vocab/Dictonary. Maybe remove/replace \"&\" and \"'\"\n",
        "    start = float(line.attrib[\"start\"])\n",
        "    #print(start, \" -> \", text)\n",
        "    result.append((start, text))\n",
        "\n",
        "finalResult = [] # start, end, length, text\n",
        "for i in range(len(result) - 1):\n",
        "  # print(item)\n",
        "\n",
        "  item = result[i]\n",
        "  nextItem = result[i + 1]\n",
        "\n",
        "  start = item[0]\n",
        "  text = item[1]\n",
        "  length = round(nextItem[0] - start, 3)\n",
        "  end = nextItem[0]\n",
        "  if \"[\" in text:\n",
        "    print(\"Skipping\", text, item)\n",
        "  else:\n",
        "    finalResult.append((start, end, length, text))\n",
        "print(finalResult[0:5])"
      ],
      "metadata": {
        "id": "XhlYxki5T45b"
      },
      "execution_count": null,
      "outputs": []
    },
    {
      "cell_type": "code",
      "source": [
        "from pydub import AudioSegment\n",
        "chunksInfo = finalResult\n",
        "\n",
        "audio = AudioSegment.from_mp3(audioPath)"
      ],
      "metadata": {
        "id": "DWrOCjsVE9eu"
      },
      "execution_count": null,
      "outputs": []
    },
    {
      "cell_type": "code",
      "source": [
        "from pydub.silence import split_on_silence\n",
        "# Remove silences in the clips\n",
        "def removeSilences(inputAudio, output_file_path, audio_format):\n",
        "  audio_chunks = split_on_silence(inputAudio\n",
        "                              ,min_silence_len = 100\n",
        "                              ,silence_thresh = -45\n",
        "                              ,keep_silence = 50\n",
        "                          )\n",
        "\n",
        "  # Putting the file back together\n",
        "  combined = AudioSegment.empty()\n",
        "  for chunk in audio_chunks:\n",
        "      combined += chunk\n",
        "  combined.export(output_file_path, format=audio_format)\n",
        "  print(\"Removed silence (sec):\", inputAudio.duration_seconds - combined.duration_seconds)\n",
        "\n",
        "def ensure_dir(path):\n",
        "  os.makedirs(path, exist_ok=True)"
      ],
      "metadata": {
        "id": "vZXrXXf-F7XN"
      },
      "execution_count": null,
      "outputs": []
    },
    {
      "cell_type": "code",
      "source": [
        "final_output_folder = \"final\"\n",
        "# create a directory to store the audio chunks\n",
        "ensure_dir(final_output_folder)\n",
        "\n",
        "exportFormat = \"mp3\"\n",
        "for i, chunkInfo in enumerate(chunksInfo[0:10]):\n",
        "  print(chunkInfo)\n",
        "  start = chunkInfo[0] * 1000 #Works in milliseconds\n",
        "  end = chunkInfo[1] * 1000\n",
        "  chunk = audio[start:end]\n",
        "  chunkName = str(i) + '.' + exportFormat\n",
        "  chunkPath = final_output_folder + \"/\" + chunkName\n",
        "  #removeSilences(chunk, chunkPath, exportFormat)\n",
        "  chunk.export(chunkPath, format=exportFormat)\n",
        "# Trim silence - https://stackoverflow.com/questions/29547218/remove-silence-at-the-beginning-and-at-the-end-of-wave-files-with-pydub"
      ],
      "metadata": {
        "id": "xlSxnNYHw53C"
      },
      "execution_count": null,
      "outputs": []
    },
    {
      "cell_type": "code",
      "source": [
        "# chop into clips with transcript\n",
        "# trim silences\n",
        "# remove noises, background sound, music etc - spleeter ?\n",
        "# trim silences ??\n",
        "# Done!!!\n",
        "# https://manpages.ubuntu.com/manpages/kinetic/en/man1/mp3splt.1.html\n",
        "# https://askubuntu.com/a/27637\n"
      ],
      "metadata": {
        "id": "zG-Tf6mvALwv"
      },
      "execution_count": null,
      "outputs": []
    },
    {
      "cell_type": "code",
      "source": [
        "!rm final/ -r\n",
        "!rm audio_chunks/ -r"
      ],
      "metadata": {
        "id": "65kX6ZM3WOy4"
      },
      "execution_count": null,
      "outputs": []
    }
  ]
}

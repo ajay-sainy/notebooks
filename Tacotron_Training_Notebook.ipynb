{
  "nbformat": 4,
  "nbformat_minor": 0,
  "metadata": {
    "colab": {
      "provenance": [],
      "private_outputs": true,
      "collapsed_sections": [],
      "include_colab_link": true
    },
    "kernelspec": {
      "name": "python3",
      "display_name": "Python 3"
    },
    "accelerator": "GPU"
  },
  "cells": [
    {
      "cell_type": "markdown",
      "metadata": {
        "id": "view-in-github",
        "colab_type": "text"
      },
      "source": [
        "<a href=\"https://colab.research.google.com/github/ajay-sainy/notebooks/blob/main/Tacotron_Training_Notebook.ipynb\" target=\"_parent\"><img src=\"https://colab.research.google.com/assets/colab-badge.svg\" alt=\"Open In Colab\"/></a>"
      ]
    },
    {
      "cell_type": "code",
      "metadata": {
        "id": "1lP4tdlKEEqU"
      },
      "source": [
        "!nvidia-smi -L"
      ],
      "execution_count": null,
      "outputs": []
    },
    {
      "cell_type": "code",
      "metadata": {
        "id": "lbZw-LNjF3f0"
      },
      "source": [
        "from google.colab import drive\n",
        "drive.mount('drive')"
      ],
      "execution_count": null,
      "outputs": []
    },
    {
      "cell_type": "markdown",
      "metadata": {
        "id": "SjtxzCV2Gywb"
      },
      "source": [
        "# Donwload Tacotron"
      ]
    },
    {
      "cell_type": "code",
      "metadata": {
        "id": "vTVe3hL2G4VE"
      },
      "source": [
        "import os\n",
        "!git clone -q https://github.com/NVIDIA/tacotron2\n",
        "os.chdir('tacotron2')\n",
        "!git submodule init\n",
        "!git submodule update\n",
        "!pip install -q unidecode tensorboardX\n",
        "!pip install tensorflow==1.15"
      ],
      "execution_count": null,
      "outputs": []
    },
    {
      "cell_type": "markdown",
      "metadata": {
        "id": "nk5eQe8BHugf"
      },
      "source": [
        "# Upload dataset\n",
        "\n",
        "This is where you will need to upload your dataset. First, run the cell below. This will make the folder where you will put your audio files."
      ]
    },
    {
      "cell_type": "code",
      "metadata": {
        "id": "KvZRk3v4H324"
      },
      "source": [
        "data_path = 'wavs'\n",
        "!pwd\n",
        "# !rm {data_path} -r\n",
        "# !mkdir {data_path}\n",
        "\n",
        "# !ls /content/drive/MyDrive/audio_clone/Jordan/wavs/\n",
        "!cp -a /content/drive/MyDrive/audio_clone/Jordan/wavs/. /content/tacotron2/wavs/\n",
        "\n",
        "!cp -a /content/drive/MyDrive/audio_clone/Jordan/*.txt /content/tacotron2/filelists/"
      ],
      "execution_count": null,
      "outputs": []
    },
    {
      "cell_type": "markdown",
      "metadata": {
        "id": "CIOe_88IK6iF"
      },
      "source": [
        "# Prepare the model\n",
        "\n",
        "This next section prepares the model and stuff for training.\n"
      ]
    },
    {
      "cell_type": "code",
      "metadata": {
        "id": "mWF5VuGELRey",
        "cellView": "form"
      },
      "source": [
        "#@title Name the model\n",
        "\n",
        "model_filename = \"Jordan_2\" #@param {type:\"string\"}"
      ],
      "execution_count": null,
      "outputs": []
    },
    {
      "cell_type": "code",
      "metadata": {
        "id": "cD7wNMRZKrJ3"
      },
      "source": [
        "#@title A bunch of boring code and stuff (if you want to look at it, double click on this cell)\n",
        "%matplotlib inline\n",
        "import os\n",
        "if os.getcwd() != '/content/tacotron2':\n",
        "    os.chdir('tacotron2')\n",
        "import time\n",
        "import argparse\n",
        "import math\n",
        "from numpy import finfo\n",
        "\n",
        "import torch\n",
        "from distributed import apply_gradient_allreduce\n",
        "import torch.distributed as dist\n",
        "from torch.utils.data.distributed import DistributedSampler\n",
        "from torch.utils.data import DataLoader\n",
        "\n",
        "from model import Tacotron2\n",
        "from data_utils import TextMelLoader, TextMelCollate\n",
        "from loss_function import Tacotron2Loss\n",
        "from logger import Tacotron2Logger\n",
        "from hparams import create_hparams\n",
        " \n",
        "import random\n",
        "import numpy as np\n",
        "\n",
        "import layers\n",
        "from utils import load_wav_to_torch, load_filepaths_and_text\n",
        "from text import text_to_sequence\n",
        "from math import e\n",
        "#from tqdm import tqdm # Terminal\n",
        "#from tqdm import tqdm_notebook as tqdm # Legacy Notebook TQDM\n",
        "from tqdm.notebook import tqdm # Modern Notebook TQDM\n",
        "from distutils.dir_util import copy_tree\n",
        "import matplotlib.pylab as plt\n",
        "\n",
        "def download_from_google_drive(file_id, file_name):\n",
        "  # download a file from the Google Drive link\n",
        "  !rm -f ./cookie\n",
        "  !curl -c ./cookie -s -L \"https://drive.google.com/uc?export=download&id={file_id}\" > /dev/null\n",
        "  confirm_text = !awk '/download/ {print $NF}' ./cookie\n",
        "  confirm_text = confirm_text[0]\n",
        "  !curl -Lb ./cookie \"https://drive.google.com/uc?export=download&confirm={confirm_text}&id={file_id}\" -o {file_name}\n",
        "\n",
        "def create_mels():\n",
        "    print(\"Generating Mels\")\n",
        "    stft = layers.TacotronSTFT(\n",
        "                hparams.filter_length, hparams.hop_length, hparams.win_length,\n",
        "                hparams.n_mel_channels, hparams.sampling_rate, hparams.mel_fmin,\n",
        "                hparams.mel_fmax)\n",
        "    def save_mel(filename):\n",
        "        audio, sampling_rate = load_wav_to_torch(filename)\n",
        "        if sampling_rate != stft.sampling_rate:\n",
        "            raise ValueError(\"{} {} SR doesn't match target {} SR\".format(filename, \n",
        "                sampling_rate, stft.sampling_rate))\n",
        "        audio_norm = audio / hparams.max_wav_value\n",
        "        audio_norm = audio_norm.unsqueeze(0)\n",
        "        audio_norm = torch.autograd.Variable(audio_norm, requires_grad=False)\n",
        "        melspec = stft.mel_spectrogram(audio_norm)\n",
        "        melspec = torch.squeeze(melspec, 0).cpu().numpy()\n",
        "        np.save(filename.replace('.wav', ''), melspec)\n",
        "\n",
        "    import glob\n",
        "    wavs = glob.glob('wavs/*.wav')\n",
        "    for i in tqdm(wavs):\n",
        "        save_mel(i)\n",
        "\n",
        "\n",
        "def reduce_tensor(tensor, n_gpus):\n",
        "    rt = tensor.clone()\n",
        "    dist.all_reduce(rt, op=dist.reduce_op.SUM)\n",
        "    rt /= n_gpus\n",
        "    return rt\n",
        "\n",
        "\n",
        "def init_distributed(hparams, n_gpus, rank, group_name):\n",
        "    assert torch.cuda.is_available(), \"Distributed mode requires CUDA.\"\n",
        "    print(\"Initializing Distributed\")\n",
        "\n",
        "    # Set cuda device so everything is done on the right GPU.\n",
        "    torch.cuda.set_device(rank % torch.cuda.device_count())\n",
        "\n",
        "    # Initialize distributed communication\n",
        "    dist.init_process_group(\n",
        "        backend=hparams.dist_backend, init_method=hparams.dist_url,\n",
        "        world_size=n_gpus, rank=rank, group_name=group_name)\n",
        "\n",
        "    print(\"Done initializing distributed\")\n",
        "\n",
        "\n",
        "def prepare_dataloaders(hparams):\n",
        "    # Get data, data loaders and collate function ready\n",
        "    trainset = TextMelLoader(hparams.training_files, hparams)\n",
        "    valset = TextMelLoader(hparams.validation_files, hparams)\n",
        "    collate_fn = TextMelCollate(hparams.n_frames_per_step)\n",
        "\n",
        "    if hparams.distributed_run:\n",
        "        train_sampler = DistributedSampler(trainset)\n",
        "        shuffle = False\n",
        "    else:\n",
        "        train_sampler = None\n",
        "        shuffle = True\n",
        "\n",
        "    train_loader = DataLoader(trainset, num_workers=1, shuffle=shuffle,\n",
        "                              sampler=train_sampler,\n",
        "                              batch_size=hparams.batch_size, pin_memory=False,\n",
        "                              drop_last=True, collate_fn=collate_fn)\n",
        "    return train_loader, valset, collate_fn\n",
        "\n",
        "\n",
        "def prepare_directories_and_logger(output_directory, log_directory, rank):\n",
        "    if rank == 0:\n",
        "        if not os.path.isdir(output_directory):\n",
        "            os.makedirs(output_directory)\n",
        "            os.chmod(output_directory, 0o775)\n",
        "        logger = Tacotron2Logger(os.path.join(output_directory, log_directory))\n",
        "    else:\n",
        "        logger = None\n",
        "    return logger\n",
        "\n",
        "\n",
        "def load_model(hparams):\n",
        "    model = Tacotron2(hparams).cuda()\n",
        "    if hparams.fp16_run:\n",
        "        model.decoder.attention_layer.score_mask_value = finfo('float16').min\n",
        "\n",
        "    if hparams.distributed_run:\n",
        "        model = apply_gradient_allreduce(model)\n",
        "\n",
        "    return model\n",
        "\n",
        "\n",
        "def warm_start_model(checkpoint_path, model, ignore_layers):\n",
        "    assert os.path.isfile(checkpoint_path)\n",
        "    print(\"Warm starting model from checkpoint '{}'\".format(checkpoint_path))\n",
        "    checkpoint_dict = torch.load(checkpoint_path, map_location='cpu')\n",
        "    model_dict = checkpoint_dict['state_dict']\n",
        "    if len(ignore_layers) > 0:\n",
        "        model_dict = {k: v for k, v in model_dict.items()\n",
        "                      if k not in ignore_layers}\n",
        "        dummy_dict = model.state_dict()\n",
        "        dummy_dict.update(model_dict)\n",
        "        model_dict = dummy_dict\n",
        "    model.load_state_dict(model_dict)\n",
        "    return model\n",
        "\n",
        "\n",
        "def load_checkpoint(checkpoint_path, model, optimizer):\n",
        "    assert os.path.isfile(checkpoint_path)\n",
        "    print(\"Loading checkpoint '{}'\".format(checkpoint_path))\n",
        "    checkpoint_dict = torch.load(checkpoint_path, map_location='cpu')\n",
        "    model.load_state_dict(checkpoint_dict['state_dict'])\n",
        "    optimizer.load_state_dict(checkpoint_dict['optimizer'])\n",
        "    learning_rate = checkpoint_dict['learning_rate']\n",
        "    iteration = checkpoint_dict['iteration']\n",
        "    print(\"Loaded checkpoint '{}' from iteration {}\" .format(\n",
        "        checkpoint_path, iteration))\n",
        "    return model, optimizer, learning_rate, iteration\n",
        "\n",
        "\n",
        "def save_checkpoint(model, optimizer, learning_rate, iteration, filepath):\n",
        "    print(\"Saving model and optimizer state at iteration {} to {}\".format(\n",
        "        iteration, filepath))\n",
        "    try:\n",
        "        torch.save({'iteration': iteration,\n",
        "                'state_dict': model.state_dict(),\n",
        "                'optimizer': optimizer.state_dict(),\n",
        "                'learning_rate': learning_rate}, filepath)\n",
        "    except KeyboardInterrupt:\n",
        "        print(\"interrupt received while saving, waiting for save to complete.\")\n",
        "        torch.save({'iteration': iteration,'state_dict': model.state_dict(),'optimizer': optimizer.state_dict(),'learning_rate': learning_rate}, filepath)\n",
        "    print(\"Model Saved\")\n",
        "\n",
        "def plot_alignment(alignment, info=None):\n",
        "    %matplotlib inline\n",
        "    fig, ax = plt.subplots(figsize=(int(alignment_graph_width/100), int(alignment_graph_height/100)))\n",
        "    im = ax.imshow(alignment, cmap='inferno', aspect='auto', origin='lower',\n",
        "                   interpolation='none')\n",
        "    ax.autoscale(enable=True, axis=\"y\", tight=True)\n",
        "    fig.colorbar(im, ax=ax)\n",
        "    xlabel = 'Decoder timestep'\n",
        "    if info is not None:\n",
        "        xlabel += '\\n\\n' + info\n",
        "    plt.xlabel(xlabel)\n",
        "    plt.ylabel('Encoder timestep')\n",
        "    plt.tight_layout()\n",
        "    fig.canvas.draw()\n",
        "    plt.show()\n",
        "\n",
        "def validate(model, criterion, valset, iteration, batch_size, n_gpus,\n",
        "             collate_fn, logger, distributed_run, rank, epoch, start_eposh, learning_rate):\n",
        "    \"\"\"Handles all the validation scoring and printing\"\"\"\n",
        "    model.eval()\n",
        "    with torch.no_grad():\n",
        "        val_sampler = DistributedSampler(valset) if distributed_run else None\n",
        "        val_loader = DataLoader(valset, sampler=val_sampler, num_workers=1,\n",
        "                                shuffle=False, batch_size=batch_size,\n",
        "                                pin_memory=False, collate_fn=collate_fn)\n",
        "\n",
        "        val_loss = 0.0\n",
        "        for i, batch in enumerate(val_loader):\n",
        "            x, y = model.parse_batch(batch)\n",
        "            y_pred = model(x)\n",
        "            loss = criterion(y_pred, y)\n",
        "            if distributed_run:\n",
        "                reduced_val_loss = reduce_tensor(loss.data, n_gpus).item()\n",
        "            else:\n",
        "                reduced_val_loss = loss.item()\n",
        "            val_loss += reduced_val_loss\n",
        "        val_loss = val_loss / (i + 1)\n",
        "\n",
        "    model.train()\n",
        "    if rank == 0:\n",
        "        print(\"Epoch: {} Validation loss {}: {:9f}  Time: {:.1f}m LR: {:.6f}\".format(epoch, iteration, val_loss,(time.perf_counter()-start_eposh)/60, learning_rate))\n",
        "        logger.log_validation(val_loss, model, y, y_pred, iteration)\n",
        "        if hparams.show_alignments:\n",
        "            %matplotlib inline\n",
        "            _, mel_outputs, gate_outputs, alignments = y_pred\n",
        "            idx = random.randint(0, alignments.size(0) - 1)\n",
        "            plot_alignment(alignments[idx].data.cpu().numpy().T)\n",
        "\n",
        "def train(output_directory, log_directory, checkpoint_path, warm_start, n_gpus,\n",
        "          rank, group_name, hparams, log_directory2):\n",
        "    \"\"\"Training and validation logging results to tensorboard and stdout\n",
        "\n",
        "    Params\n",
        "    ------\n",
        "    output_directory (string): directory to save checkpoints\n",
        "    log_directory (string) directory to save tensorboard logs\n",
        "    checkpoint_path(string): checkpoint path\n",
        "    n_gpus (int): number of gpus\n",
        "    rank (int): rank of current gpu\n",
        "    hparams (object): comma separated list of \"name=value\" pairs.\n",
        "    \"\"\"\n",
        "    if hparams.distributed_run:\n",
        "        init_distributed(hparams, n_gpus, rank, group_name)\n",
        "\n",
        "    torch.manual_seed(hparams.seed)\n",
        "    torch.cuda.manual_seed(hparams.seed)\n",
        "\n",
        "    model = load_model(hparams)\n",
        "    learning_rate = hparams.learning_rate\n",
        "    optimizer = torch.optim.Adam(model.parameters(), lr=learning_rate,\n",
        "                                 weight_decay=hparams.weight_decay)\n",
        "\n",
        "    if hparams.fp16_run:\n",
        "        from apex import amp\n",
        "        model, optimizer = amp.initialize(\n",
        "            model, optimizer, opt_level='O2')\n",
        "\n",
        "    if hparams.distributed_run:\n",
        "        model = apply_gradient_allreduce(model)\n",
        "\n",
        "    criterion = Tacotron2Loss()\n",
        "\n",
        "    logger = prepare_directories_and_logger(\n",
        "        output_directory, log_directory, rank)\n",
        "\n",
        "    train_loader, valset, collate_fn = prepare_dataloaders(hparams)\n",
        "\n",
        "    # Load checkpoint if one exists\n",
        "    iteration = 0\n",
        "    epoch_offset = 0\n",
        "    if checkpoint_path is not None and os.path.isfile(checkpoint_path):\n",
        "        if warm_start:\n",
        "            model = warm_start_model(\n",
        "                checkpoint_path, model, hparams.ignore_layers)\n",
        "        else:\n",
        "            model, optimizer, _learning_rate, iteration = load_checkpoint(\n",
        "                checkpoint_path, model, optimizer)\n",
        "            if hparams.use_saved_learning_rate:\n",
        "                learning_rate = _learning_rate\n",
        "            iteration += 1  # next iteration is iteration + 1\n",
        "            epoch_offset = max(0, int(iteration / len(train_loader)))\n",
        "    else:\n",
        "      os.path.isfile(\"pretrained_model\")\n",
        "      gdown.download(\"https://drive.google.com/u/0/uc?export=download&confirm=kZ1A&id=1c5ZTuT7J08wLUoVZ2KkUs_VdZuJ86ZqA\", \"pretrained_model\", quiet=False)\n",
        "      model = warm_start_model(\"pretrained_model\", model, hparams.ignore_layers)\n",
        "      # download LJSpeech pretrained model if no checkpoint already exists\n",
        "    \n",
        "    start_eposh = time.perf_counter()\n",
        "    learning_rate = 0.0\n",
        "    model.train()\n",
        "    is_overflow = False\n",
        "    # ================ MAIN TRAINNIG LOOP! ===================\n",
        "    for epoch in tqdm(range(epoch_offset, hparams.epochs)):\n",
        "        print(\"\\nStarting Epoch: {} Iteration: {}\".format(epoch, iteration))\n",
        "        start_eposh = time.perf_counter() # eposh is russian, not a typo\n",
        "        for i, batch in tqdm(enumerate(train_loader), total=len(train_loader)):\n",
        "            start = time.perf_counter()\n",
        "            if iteration < hparams.decay_start: learning_rate = hparams.A_\n",
        "            else: iteration_adjusted = iteration - hparams.decay_start; learning_rate = (hparams.A_*(e**(-iteration_adjusted/hparams.B_))) + hparams.C_\n",
        "            learning_rate = max(hparams.min_learning_rate, learning_rate) # output the largest number\n",
        "            for param_group in optimizer.param_groups:\n",
        "                param_group['lr'] = learning_rate\n",
        "\n",
        "            model.zero_grad()\n",
        "            x, y = model.parse_batch(batch)\n",
        "            y_pred = model(x)\n",
        "\n",
        "            loss = criterion(y_pred, y)\n",
        "            if hparams.distributed_run:\n",
        "                reduced_loss = reduce_tensor(loss.data, n_gpus).item()\n",
        "            else:\n",
        "                reduced_loss = loss.item()\n",
        "            if hparams.fp16_run:\n",
        "                with amp.scale_loss(loss, optimizer) as scaled_loss:\n",
        "                    scaled_loss.backward()\n",
        "            else:\n",
        "                loss.backward()\n",
        "\n",
        "            if hparams.fp16_run:\n",
        "                grad_norm = torch.nn.utils.clip_grad_norm_(\n",
        "                    amp.master_params(optimizer), hparams.grad_clip_thresh)\n",
        "                is_overflow = math.isnan(grad_norm)\n",
        "            else:\n",
        "                grad_norm = torch.nn.utils.clip_grad_norm_(\n",
        "                    model.parameters(), hparams.grad_clip_thresh)\n",
        "\n",
        "            optimizer.step()\n",
        "\n",
        "            if not is_overflow and rank == 0:\n",
        "                duration = time.perf_counter() - start\n",
        "                logger.log_training(\n",
        "                    reduced_loss, grad_norm, learning_rate, duration, iteration)\n",
        "                #print(\"Batch {} loss {:.6f} Grad Norm {:.6f} Time {:.6f}\".format(iteration, reduced_loss, grad_norm, duration), end='\\r', flush=True)\n",
        "\n",
        "            iteration += 1\n",
        "        validate(model, criterion, valset, iteration,\n",
        "                 hparams.batch_size, n_gpus, collate_fn, logger,\n",
        "                 hparams.distributed_run, rank, epoch, start_eposh, learning_rate)\n",
        "        save_checkpoint(model, optimizer, learning_rate, iteration, checkpoint_path)\n",
        "        if log_directory2 != None:\n",
        "            copy_tree(log_directory, log_directory2)\n",
        "def check_dataset(hparams):\n",
        "    from utils import load_wav_to_torch, load_filepaths_and_text\n",
        "    import os\n",
        "    import numpy as np\n",
        "    def check_arr(filelist_arr):\n",
        "        for i, file in enumerate(filelist_arr):\n",
        "            if len(file) > 2:\n",
        "                print(\"|\".join(file), \"\\nhas multiple '|', this may not be an error.\")\n",
        "            if hparams.load_mel_from_disk and '.wav' in file[0]:\n",
        "                print(\"[WARNING]\", file[0], \" in filelist while expecting .npy .\")\n",
        "            else:\n",
        "                if not hparams.load_mel_from_disk and '.npy' in file[0]:\n",
        "                    print(\"[WARNING]\", file[0], \" in filelist while expecting .wav .\")\n",
        "            if (not os.path.exists(file[0])):\n",
        "                print(\"|\".join(file), \"\\n[WARNING] does not exist.\")\n",
        "            if len(file[1]) < 3:\n",
        "                print(\"|\".join(file), \"\\n[info] has no/very little text.\")\n",
        "            if not ((file[1].strip())[-1] in r\"!?,.;:\"):\n",
        "                print(\"|\".join(file), \"\\n[info] has no ending punctuation.\")\n",
        "            mel_length = 1\n",
        "            if hparams.load_mel_from_disk and '.npy' in file[0]:\n",
        "                melspec = torch.from_numpy(np.load(file[0], allow_pickle=True))\n",
        "                mel_length = melspec.shape[1]\n",
        "            if mel_length == 0:\n",
        "                print(\"|\".join(file), \"\\n[WARNING] has 0 duration.\")\n",
        "    print(\"Checking Training Files\")\n",
        "    audiopaths_and_text = load_filepaths_and_text(hparams.training_files) # get split lines from training_files text file.\n",
        "    check_arr(audiopaths_and_text)\n",
        "    print(\"Checking Validation Files\")\n",
        "    audiopaths_and_text = load_filepaths_and_text(hparams.validation_files) # get split lines from validation_files text file.\n",
        "    check_arr(audiopaths_and_text)\n",
        "    print(\"Finished Checking\")\n",
        "\n",
        "# ---- Replace .wav with .npy in filelists ----\n",
        "!sed -i -- 's,.wav|,.npy|,g' filelists/*.txt\n",
        "# ---- Replace .wav with .npy in filelists ----\n",
        "\n",
        "warm_start=False#sorry bout that\n",
        "n_gpus=1\n",
        "rank=0\n",
        "group_name=None\n",
        "\n",
        "# ---- DEFAULT PARAMETERS DEFINED HERE ----\n",
        "hparams = create_hparams()\n",
        "#hparams.use_mmi=True,          # not used in this notebook\n",
        "#hparams.use_gaf=True,          # not used in this notebook\n",
        "#hparams.max_gaf=0.5,           # not used in this notebook\n",
        "#hparams.drop_frame_rate = 0.2  # not used in this notebook\n",
        "hparams.p_attention_dropout=0.1\n",
        "hparams.p_decoder_dropout=0.1\n",
        "hparams.decay_start = 15000\n",
        "hparams.A_ = 5e-4\n",
        "hparams.B_ = 8000\n",
        "hparams.C_ = 0\n",
        "hparams.min_learning_rate = 1e-5\n",
        "generate_mels = True\n",
        "hparams.show_alignments = True\n",
        "alignment_graph_height = 600\n",
        "alignment_graph_width = 1000\n",
        "hparams.batch_size = 32\n",
        "hparams.load_mel_from_disk = True\n",
        "hparams.ignore_layers = []\n",
        "hparams.epochs = 10000\n",
        "torch.backends.cudnn.enabled = hparams.cudnn_enabled\n",
        "torch.backends.cudnn.benchmark = hparams.cudnn_benchmark\n",
        "output_directory = '/content/drive/My Drive/colab/outdir' # Location to save Checkpoints\n",
        "log_directory = '/content/tacotron2/logs' # Location to save Log files locally\n",
        "log_directory2 = '/content/drive/My Drive/colab/logs' # Location to copy log files (done at the end of each epoch to cut down on I/O)\n",
        "checkpoint_path = output_directory+(r'/')+model_filename"
      ],
      "execution_count": null,
      "outputs": []
    },
    {
      "cell_type": "markdown",
      "metadata": {
        "id": "wv62yzewMKui"
      },
      "source": [
        "This is where you put the name of the model (usually the name of the person's voice you're cloning)"
      ]
    },
    {
      "cell_type": "markdown",
      "metadata": {
        "id": "-n3e8PDeMAWi"
      },
      "source": [
        "Replace \"PUTFILENAMEHERE\" with the name of your text file."
      ]
    },
    {
      "cell_type": "code",
      "metadata": {
        "id": "zyP8e7TfLtmX"
      },
      "source": [
        "hparams.training_files = \"filelists/train_list.txt\"\n",
        "hparams.validation_files = \"filelists/val_list.txt\""
      ],
      "execution_count": null,
      "outputs": []
    },
    {
      "cell_type": "markdown",
      "metadata": {
        "id": "ut6p3YmSNYY6"
      },
      "source": [
        "### Set the parameters\n",
        "\n",
        "You can play around with these if you want."
      ]
    },
    {
      "cell_type": "code",
      "metadata": {
        "id": "dpm433-rMfKt"
      },
      "source": [
        "# hparams to Tune\n",
        "\n",
        "#These two are the most important\n",
        "hparams.batch_size = 30 # Controls how fast the model trains. Don't set this too high, or else it will GPU will OOM (out of memory). 30-ish is usually a good number if you have a bigger dataset. If the number of audio files is more than/about the same as this number, it won't train properly, and you won't be able to use it.\n",
        "hparams.epochs = 10000 # Maxmimum epochs (number of times the AI looks through the dataset) to train\n",
        "\n",
        "#The rest aren't that important\n",
        "hparams.p_attention_dropout=0.1\n",
        "hparams.p_decoder_dropout=0.1\n",
        "hparams.decay_start = 15000         # wait till decay_start to start decaying learning rate\n",
        "hparams.A_ = 5e-4                   # Start/Max Learning Rate\n",
        "hparams.B_ = 8000                   # Decay Rate\n",
        "hparams.C_ = 0                      # Shift learning rate equation by this value\n",
        "hparams.min_learning_rate = 1e-5    # Min Learning Rate\n",
        "generate_mels = True # Don't change\n",
        "hparams.show_alignments = True\n",
        "alignment_graph_height = 600\n",
        "alignment_graph_width = 1000\n",
        "hparams.load_mel_from_disk = False\n",
        "hparams.ignore_layers = [] # Layers to reset (None by default, other than foreign languages this param can be ignored)\n",
        "\n",
        "torch.backends.cudnn.enabled = hparams.cudnn_enabled\n",
        "torch.backends.cudnn.benchmark = hparams.cudnn_benchmark\n",
        "output_directory = '/content/drive/My Drive/colab/outdir' # Location to save Checkpoints\n",
        "log_directory = '/content/tacotron2/logs' # Location to save Log files locally\n",
        "log_directory2 = '/content/drive/My Drive/colab/logs' # Location to copy log files (done at the end of each epoch to cut down on I/O)\n",
        "checkpoint_path = output_directory+(r'/')+model_filename"
      ],
      "execution_count": null,
      "outputs": []
    },
    {
      "cell_type": "markdown",
      "metadata": {
        "id": "XbcqKVlNNxxV"
      },
      "source": [
        "### Create MEL spectrograms\n",
        "\n",
        "The MEL spectrograms are the input for the AI."
      ]
    },
    {
      "cell_type": "code",
      "metadata": {
        "id": "JiuUJH_ANSmv"
      },
      "source": [
        "if generate_mels:\n",
        "    create_mels()"
      ],
      "execution_count": null,
      "outputs": []
    },
    {
      "cell_type": "markdown",
      "metadata": {
        "id": "OMKk2asHOAKh"
      },
      "source": [
        "### Check data\n",
        "\n",
        "This cell will go through the dataset one more time to see if anything's wrong before training starts."
      ]
    },
    {
      "cell_type": "code",
      "metadata": {
        "id": "rJ08eb1eOFau"
      },
      "source": [
        "check_dataset(hparams)"
      ],
      "execution_count": null,
      "outputs": []
    },
    {
      "cell_type": "markdown",
      "metadata": {
        "id": "0LDuVYavOPij"
      },
      "source": [
        "# Start training!"
      ]
    },
    {
      "cell_type": "markdown",
      "metadata": {
        "id": "wpe88HwnOT2p"
      },
      "source": [
        "This next cell will begin training the model!"
      ]
    },
    {
      "cell_type": "code",
      "metadata": {
        "id": "oq0cH7AtOEAx"
      },
      "source": [
        "print('FP16 Run:', hparams.fp16_run)\n",
        "print('Dynamic Loss Scaling:', hparams.dynamic_loss_scaling)\n",
        "print('Distributed Run:', hparams.distributed_run)\n",
        "print('cuDNN Enabled:', hparams.cudnn_enabled)\n",
        "print('cuDNN Benchmark:', hparams.cudnn_benchmark)\n",
        "!pip install gdown\n",
        "import gdown\n",
        "train(output_directory, log_directory, checkpoint_path,\n",
        "      warm_start, n_gpus, rank, group_name, hparams, log_directory2)"
      ],
      "execution_count": null,
      "outputs": []
    },
    {
      "cell_type": "markdown",
      "metadata": {
        "id": "u9lwF9PWPL3N"
      },
      "source": [
        "Congrats! You've (hopefully) successfully trained a Tacotron model!\n",
        "\n",
        "If there was a problem with training, just leave a comment on the YouTube video, and I'll try to respond!\n",
        "\n",
        "Now, before you go into the synthesis notebook, go to your Google Drive, (https://drive.google.com/drive/my-drive), go into the folder that says \"colab\", go into \"outdir\", and right click on the .tar file with your model's name.\n",
        "![drv.PNG](data:image/png;base64,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)\n",
        "Click on \"get shareable link\", change \"Restricted\" to \"anyone with the link\", then copy the link!"
      ]
    }
  ]
}